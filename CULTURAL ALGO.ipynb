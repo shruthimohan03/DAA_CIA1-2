{
 "cells": [
  {
   "cell_type": "code",
   "execution_count": 3,
   "id": "8c2821e0",
   "metadata": {},
   "outputs": [],
   "source": [
    "from tensorflow.keras.datasets import mnist\n",
    "from tensorflow.keras.models import Sequential\n",
    "from tensorflow.keras.layers import Conv2D\n",
    "from tensorflow.keras.layers import MaxPool2D\n",
    "from tensorflow.keras.layers import Flatten\n",
    "from tensorflow.keras.layers import Dropout\n",
    "from tensorflow.keras.layers import Dense"
   ]
  },
  {
   "cell_type": "code",
   "execution_count": 4,
   "id": "384b8161",
   "metadata": {},
   "outputs": [],
   "source": [
    "(X_train,y_train) , (X_test,y_test)=mnist.load_data()"
   ]
  },
  {
   "cell_type": "code",
   "execution_count": 5,
   "id": "89d1fef3",
   "metadata": {},
   "outputs": [],
   "source": [
    "X_train = X_train.reshape((X_train.shape[0], X_train.shape[1], X_train.shape[2], 1))/255\n",
    "X_test = X_test.reshape((X_test.shape[0],X_test.shape[1],X_test.shape[2],1))/255"
   ]
  },
  {
   "cell_type": "markdown",
   "id": "44e3647a",
   "metadata": {},
   "source": [
    "#### Cultural Algo"
   ]
  },
  {
   "cell_type": "code",
   "execution_count": 28,
   "id": "2d2b1369",
   "metadata": {
    "collapsed": true
   },
   "outputs": [
    {
     "ename": "NameError",
     "evalue": "name 'cities' is not defined",
     "output_type": "error",
     "traceback": [
      "\u001b[1;31m---------------------------------------------------------------------------\u001b[0m",
      "\u001b[1;31mNameError\u001b[0m                                 Traceback (most recent call last)",
      "\u001b[1;32mC:\\Users\\SHRUTH~1\\AppData\\Local\\Temp/ipykernel_31472/3937979591.py\u001b[0m in \u001b[0;36m<module>\u001b[1;34m\u001b[0m\n\u001b[0;32m      5\u001b[0m     \u001b[1;32mreturn\u001b[0m \u001b[0mdistances\u001b[0m\u001b[1;33m\u001b[0m\u001b[1;33m\u001b[0m\u001b[0m\n\u001b[0;32m      6\u001b[0m \u001b[1;33m\u001b[0m\u001b[0m\n\u001b[1;32m----> 7\u001b[1;33m \u001b[0mdistances\u001b[0m \u001b[1;33m=\u001b[0m \u001b[0mgenerate_distance_matrix\u001b[0m\u001b[1;33m(\u001b[0m\u001b[1;36m1\u001b[0m\u001b[1;33m,\u001b[0m \u001b[1;36m101\u001b[0m\u001b[1;33m)\u001b[0m\u001b[1;33m\u001b[0m\u001b[1;33m\u001b[0m\u001b[0m\n\u001b[0m",
      "\u001b[1;32mC:\\Users\\SHRUTH~1\\AppData\\Local\\Temp/ipykernel_31472/3937979591.py\u001b[0m in \u001b[0;36mgenerate_distance_matrix\u001b[1;34m(min_distance, max_distance)\u001b[0m\n\u001b[0;32m      1\u001b[0m \u001b[1;32mdef\u001b[0m \u001b[0mgenerate_distance_matrix\u001b[0m\u001b[1;33m(\u001b[0m\u001b[0mmin_distance\u001b[0m\u001b[1;33m,\u001b[0m\u001b[0mmax_distance\u001b[0m\u001b[1;33m)\u001b[0m\u001b[1;33m:\u001b[0m\u001b[1;33m\u001b[0m\u001b[1;33m\u001b[0m\u001b[0m\n\u001b[0;32m      2\u001b[0m     \u001b[0mnp\u001b[0m\u001b[1;33m.\u001b[0m\u001b[0mrandom\u001b[0m\u001b[1;33m.\u001b[0m\u001b[0mseed\u001b[0m\u001b[1;33m(\u001b[0m\u001b[1;36m42\u001b[0m\u001b[1;33m)\u001b[0m\u001b[1;33m\u001b[0m\u001b[1;33m\u001b[0m\u001b[0m\n\u001b[1;32m----> 3\u001b[1;33m     \u001b[0mdistances\u001b[0m \u001b[1;33m=\u001b[0m \u001b[0mnp\u001b[0m\u001b[1;33m.\u001b[0m\u001b[0mrandom\u001b[0m\u001b[1;33m.\u001b[0m\u001b[0mrandint\u001b[0m\u001b[1;33m(\u001b[0m\u001b[0mmin_distance\u001b[0m\u001b[1;33m,\u001b[0m\u001b[0mmax_distance\u001b[0m\u001b[1;33m,\u001b[0m\u001b[0msize\u001b[0m\u001b[1;33m=\u001b[0m\u001b[1;33m(\u001b[0m\u001b[0mcities\u001b[0m\u001b[1;33m,\u001b[0m\u001b[0mcities\u001b[0m\u001b[1;33m)\u001b[0m\u001b[1;33m)\u001b[0m\u001b[1;33m\u001b[0m\u001b[1;33m\u001b[0m\u001b[0m\n\u001b[0m\u001b[0;32m      4\u001b[0m     \u001b[0mnp\u001b[0m\u001b[1;33m.\u001b[0m\u001b[0mfill_diagonal\u001b[0m\u001b[1;33m(\u001b[0m\u001b[0mdistances\u001b[0m\u001b[1;33m,\u001b[0m\u001b[1;36m0\u001b[0m\u001b[1;33m)\u001b[0m\u001b[1;33m\u001b[0m\u001b[1;33m\u001b[0m\u001b[0m\n\u001b[0;32m      5\u001b[0m     \u001b[1;32mreturn\u001b[0m \u001b[0mdistances\u001b[0m\u001b[1;33m\u001b[0m\u001b[1;33m\u001b[0m\u001b[0m\n",
      "\u001b[1;31mNameError\u001b[0m: name 'cities' is not defined"
     ]
    }
   ],
   "source": [
    "def generate_distance_matrix(min_distance,max_distance):\n",
    "    np.random.seed(42)\n",
    "    distances = np.random.randint(min_distance,max_distance,size=(cities,cities))\n",
    "    np.fill_diagonal(distances,0)\n",
    "    return distances\n",
    "\n",
    "distances = generate_distance_matrix(1, 101)"
   ]
  },
  {
   "cell_type": "code",
   "execution_count": 29,
   "id": "812c7bd7",
   "metadata": {},
   "outputs": [],
   "source": [
    "def fitness(individual):\n",
    "    fitness_value = -np.sum([distances[individual[i],individual[(i+1)%cities]] for i in range(cities)])\n",
    "    return fitness_value"
   ]
  },
  {
   "cell_type": "code",
   "execution_count": 30,
   "id": "e3d27560",
   "metadata": {},
   "outputs": [],
   "source": [
    "def roulette_wheel_selection(population,fitness_value):\n",
    "    fitness_sum = np.sum(fitness_value)\n",
    "    fitness_prob = fitness_value / fitness_sum\n",
    "    cum_prob = np.cumsum(fitness_prob)\n",
    "    selected_index = []\n",
    "    for i in range(len(population)):\n",
    "        val = np.random.rand()\n",
    "        for j in range(len(cum_prob)):\n",
    "            if val <= cum_prob[j]:\n",
    "                selected_index.append(j)\n",
    "                break\n",
    "    return [population[i] for i in selected_index]"
   ]
  },
  {
   "cell_type": "code",
   "execution_count": 31,
   "id": "3bb4aad0",
   "metadata": {},
   "outputs": [],
   "source": [
    "def crossover(parent1, parent2):\n",
    "    child = [-1] * cities\n",
    "    crossover_point = np.random.randint(1, cities)\n",
    "    child[:crossover_point] = parent1[:crossover_point]\n",
    "    for i in range(crossover_point, cities):\n",
    "        if parent2[i] not in child:\n",
    "            child[i] = parent2[i]\n",
    "    for i in range(crossover_point):\n",
    "        if parent2[i] not in child:\n",
    "            for j in range(cities):\n",
    "                if child[j] == -1:\n",
    "                    child[j] = parent2[i]\n",
    "                    break\n",
    "    return child"
   ]
  },
  {
   "cell_type": "code",
   "execution_count": 32,
   "id": "61ba136b",
   "metadata": {
    "collapsed": true
   },
   "outputs": [
    {
     "ename": "NameError",
     "evalue": "name 'total_generations' is not defined",
     "output_type": "error",
     "traceback": [
      "\u001b[1;31m---------------------------------------------------------------------------\u001b[0m",
      "\u001b[1;31mNameError\u001b[0m                                 Traceback (most recent call last)",
      "\u001b[1;32mC:\\Users\\SHRUTH~1\\AppData\\Local\\Temp/ipykernel_31472/4276733434.py\u001b[0m in \u001b[0;36m<module>\u001b[1;34m\u001b[0m\n\u001b[1;32m----> 1\u001b[1;33m \u001b[1;32mfor\u001b[0m \u001b[0mgeneration\u001b[0m \u001b[1;32min\u001b[0m \u001b[0mrange\u001b[0m\u001b[1;33m(\u001b[0m\u001b[0mtotal_generations\u001b[0m\u001b[1;33m)\u001b[0m\u001b[1;33m:\u001b[0m\u001b[1;33m\u001b[0m\u001b[1;33m\u001b[0m\u001b[0m\n\u001b[0m\u001b[0;32m      2\u001b[0m     \u001b[0melites\u001b[0m \u001b[1;33m=\u001b[0m \u001b[1;33m[\u001b[0m\u001b[1;33m]\u001b[0m\u001b[1;33m\u001b[0m\u001b[1;33m\u001b[0m\u001b[0m\n\u001b[0;32m      3\u001b[0m     \u001b[1;32mfor\u001b[0m \u001b[0mpopulation\u001b[0m \u001b[1;32min\u001b[0m \u001b[0mpopulations\u001b[0m\u001b[1;33m:\u001b[0m\u001b[1;33m\u001b[0m\u001b[1;33m\u001b[0m\u001b[0m\n\u001b[0;32m      4\u001b[0m         \u001b[0mfitness_value\u001b[0m \u001b[1;33m=\u001b[0m \u001b[1;33m[\u001b[0m\u001b[0mfitness\u001b[0m\u001b[1;33m(\u001b[0m\u001b[0mindividual\u001b[0m\u001b[1;33m)\u001b[0m \u001b[1;32mfor\u001b[0m \u001b[0mindividual\u001b[0m \u001b[1;32min\u001b[0m \u001b[0mpopulation\u001b[0m\u001b[1;33m]\u001b[0m\u001b[1;33m\u001b[0m\u001b[1;33m\u001b[0m\u001b[0m\n\u001b[0;32m      5\u001b[0m         \u001b[0melites_index\u001b[0m \u001b[1;33m=\u001b[0m \u001b[0mnp\u001b[0m\u001b[1;33m.\u001b[0m\u001b[0margsort\u001b[0m\u001b[1;33m(\u001b[0m\u001b[0mfitness_value\u001b[0m\u001b[1;33m)\u001b[0m\u001b[1;33m[\u001b[0m\u001b[1;33m-\u001b[0m\u001b[0melite_number\u001b[0m\u001b[1;33m:\u001b[0m\u001b[1;33m]\u001b[0m\u001b[1;33m\u001b[0m\u001b[1;33m\u001b[0m\u001b[0m\n",
      "\u001b[1;31mNameError\u001b[0m: name 'total_generations' is not defined"
     ]
    }
   ],
   "source": [
    "for generation in range(total_generations):\n",
    "    elites = []\n",
    "    for population in populations:\n",
    "        fitness_value = [fitness(individual) for individual in population]\n",
    "        elites_index = np.argsort(fitness_value)[-elite_number:]\n",
    "        elites.append([population[i] for i in elites_index])\n",
    "    elite_population = [individual for elite in elites for individual in elite]\n",
    "    immigrants = [np.random.permutation(cities) for _ in range(total_immigrants)]\n",
    "    populations = [elite_population] + populations[:-1] + [immigrants]\n",
    "    new_populations = []\n",
    "    for population in populations:\n",
    "        new_population = []\n",
    "        while(len(new_population) < population_size):\n",
    "            fitness_value = [fitness(individual) for individual in population]\n",
    "            sele_indi = roulette_wheel_selection(population, fitness_value)\n",
    "            individual1 = sele_indi[0]\n",
    "            individual2 = sele_indi[1]\n",
    "            if np.random.rand() < crossover_prob:\n",
    "                child = crossover(individual1, individual2)\n",
    "            else:\n",
    "                child = individual1\n",
    "            new_population.append(child)\n",
    "        new_populations.append(new_population)\n",
    "   \n",
    "    populations = new_populations\n",
    "    \n",
    "print(\"best solution:\", fitness(best_solution))"
   ]
  },
  {
   "cell_type": "code",
   "execution_count": 6,
   "id": "fb140757",
   "metadata": {},
   "outputs": [],
   "source": [
    "model=Sequential()"
   ]
  },
  {
   "cell_type": "code",
   "execution_count": 7,
   "id": "6b5c2754",
   "metadata": {},
   "outputs": [],
   "source": [
    "model.add(Conv2D(32,(3,3),activation='relu',input_shape=(28,28,1))) #this is for convolution layer"
   ]
  },
  {
   "cell_type": "code",
   "execution_count": 8,
   "id": "ae9bbf32",
   "metadata": {},
   "outputs": [],
   "source": [
    "model.add(MaxPool2D(2,2)) #this is for pooling layer"
   ]
  },
  {
   "cell_type": "code",
   "execution_count": 9,
   "id": "3a05a454",
   "metadata": {},
   "outputs": [
    {
     "name": "stdout",
     "output_type": "stream",
     "text": [
      "Epoch 1/10\n",
      "1875/1875 [==============================] - 25s 13ms/step - loss: 0.1598 - accuracy: 0.9523\n",
      "Epoch 2/10\n",
      "1875/1875 [==============================] - 27s 14ms/step - loss: 0.0525 - accuracy: 0.9839\n",
      "Epoch 3/10\n",
      "1875/1875 [==============================] - 26s 14ms/step - loss: 0.0342 - accuracy: 0.9900\n",
      "Epoch 4/10\n",
      "1875/1875 [==============================] - 29s 16ms/step - loss: 0.0241 - accuracy: 0.9924\n",
      "Epoch 5/10\n",
      "1875/1875 [==============================] - 42s 23ms/step - loss: 0.0167 - accuracy: 0.9949\n",
      "Epoch 6/10\n",
      "1875/1875 [==============================] - 54s 29ms/step - loss: 0.0125 - accuracy: 0.9959\n",
      "Epoch 7/10\n",
      "1875/1875 [==============================] - 47s 25ms/step - loss: 0.0089 - accuracy: 0.9969\n",
      "Epoch 8/10\n",
      "1875/1875 [==============================] - 44s 23ms/step - loss: 0.0066 - accuracy: 0.9979\n",
      "Epoch 9/10\n",
      "1875/1875 [==============================] - 41s 22ms/step - loss: 0.0063 - accuracy: 0.9979\n",
      "Epoch 10/10\n",
      "1875/1875 [==============================] - 42s 23ms/step - loss: 0.0048 - accuracy: 0.9986\n"
     ]
    },
    {
     "data": {
      "text/plain": [
       "<keras.callbacks.History at 0x22b5b21ce50>"
      ]
     },
     "execution_count": 9,
     "metadata": {},
     "output_type": "execute_result"
    }
   ],
   "source": [
    "model.add(Flatten())\n",
    "model.add(Dense(100,activation='relu'))\n",
    "model.add(Dense(10,activation='softmax'))\n",
    "model.compile(loss='sparse_categorical_crossentropy',optimizer='adam',metrics=['accuracy'])\n",
    "model.fit(X_train,y_train,epochs=10)"
   ]
  },
  {
   "cell_type": "code",
   "execution_count": 10,
   "id": "6edef0e3",
   "metadata": {},
   "outputs": [
    {
     "name": "stdout",
     "output_type": "stream",
     "text": [
      "313/313 [==============================] - 3s 7ms/step - loss: 0.0699 - accuracy: 0.9844\n"
     ]
    },
    {
     "data": {
      "text/plain": [
       "[0.06985023617744446, 0.9843999743461609]"
      ]
     },
     "execution_count": 10,
     "metadata": {},
     "output_type": "execute_result"
    }
   ],
   "source": [
    "model.evaluate(X_test,y_test)"
   ]
  }
 ],
 "metadata": {
  "kernelspec": {
   "display_name": "Python 3 (ipykernel)",
   "language": "python",
   "name": "python3"
  },
  "language_info": {
   "codemirror_mode": {
    "name": "ipython",
    "version": 3
   },
   "file_extension": ".py",
   "mimetype": "text/x-python",
   "name": "python",
   "nbconvert_exporter": "python",
   "pygments_lexer": "ipython3",
   "version": "3.9.7"
  }
 },
 "nbformat": 4,
 "nbformat_minor": 5
}

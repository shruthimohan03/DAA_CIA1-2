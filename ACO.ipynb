{
 "cells": [
  {
   "cell_type": "code",
   "execution_count": 1,
   "id": "0b539095",
   "metadata": {},
   "outputs": [],
   "source": [
    "from tensorflow.keras.datasets import mnist\n",
    "from tensorflow.keras.models import Sequential\n",
    "from tensorflow.keras.layers import Conv2D\n",
    "from tensorflow.keras.layers import MaxPool2D\n",
    "from tensorflow.keras.layers import Flatten\n",
    "from tensorflow.keras.layers import Dropout\n",
    "from tensorflow.keras.layers import Dense"
   ]
  },
  {
   "cell_type": "code",
   "execution_count": 2,
   "id": "c86ba447",
   "metadata": {},
   "outputs": [],
   "source": [
    "(X_train,y_train) , (X_test,y_test)=mnist.load_data()"
   ]
  },
  {
   "cell_type": "code",
   "execution_count": 3,
   "id": "9cf272d7",
   "metadata": {},
   "outputs": [],
   "source": [
    "X_train = X_train.reshape((X_train.shape[0], X_train.shape[1], X_train.shape[2], 1))/255\n",
    "X_test = X_test.reshape((X_test.shape[0],X_test.shape[1],X_test.shape[2],1))/255"
   ]
  },
  {
   "cell_type": "markdown",
   "id": "55fcc64c",
   "metadata": {},
   "source": [
    "#### Ant colony optimization"
   ]
  },
  {
   "cell_type": "code",
   "execution_count": 34,
   "id": "308b6e68",
   "metadata": {},
   "outputs": [],
   "source": [
    "def chooseNextVertex(graph, pheremones, currPos):\n",
    "    graph = 1/graph\n",
    "    denominator = np.dot(graph[currPos], pheremones[currPos])\n",
    "    numerator = graph[currPos] * pheremones[currPos]   \n",
    "    probabilities = numerator/denominator\n",
    "    rouletteWheel = np.cumsum(probabilities)\n",
    "    rouletteBall = np.random.random()\n",
    "    nextVertex = np.where(rouletteWheel >= rouletteBall)[0][0]\n",
    "    return nextVertex"
   ]
  },
  {
   "cell_type": "code",
   "execution_count": 35,
   "id": "bb0957cd",
   "metadata": {},
   "outputs": [],
   "source": [
    "def traverse(graph, pheremones, start, end):\n",
    "    curr = start\n",
    "    path = [curr]\n",
    "    cost = 0\n",
    "    prev = start \n",
    "    while curr != end:\n",
    "        nextVertex = chooseNextVertex(graph, pheremones, curr)\n",
    "        while nextVertex == prev:\n",
    "            nextVertex = chooseNextVertex(graph, pheremones, curr)\n",
    "        cost += graph[curr][nextVertex]\n",
    "        path += [nextVertex]\n",
    "        prev = curr\n",
    "        curr = nextVertex\n",
    "    return path, cost"
   ]
  },
  {
   "cell_type": "code",
   "execution_count": 36,
   "id": "6396215b",
   "metadata": {},
   "outputs": [],
   "source": [
    "def releaseGeneration(graph, pheremones, start, end, size = 10):\n",
    "    paths = []\n",
    "    costs = []\n",
    "    for i in range(size):\n",
    "        p, c = traverse(graph, pheremones, start, end)\n",
    "        paths += [p]\n",
    "        costs += [c]\n",
    "    costs = np.array(costs)    \n",
    "    \n",
    "    return paths, costs"
   ]
  },
  {
   "cell_type": "code",
   "execution_count": 37,
   "id": "7b5c21ce",
   "metadata": {},
   "outputs": [],
   "source": [
    "def updatePheremones(paths, costs, pheremones, decay = 0):\n",
    "    pheremones = (1-decay)*pheremones\n",
    "    \n",
    "    costs = 1/costs\n",
    "    for p in range(len(paths)):\n",
    "        path = paths[p]\n",
    "        for i in range(len(path) - 1):\n",
    "            pheremones[path[i]][path[i+1]] += costs[p]\n",
    "    \n",
    "    return pheremones\n",
    "            "
   ]
  },
  {
   "cell_type": "code",
   "execution_count": 38,
   "id": "0d78c8fc",
   "metadata": {},
   "outputs": [],
   "source": [
    "def generateProblem(size, density):\n",
    "    graph = np.full((size, size), np.inf)\n",
    "    \n",
    "    for i in range(len(graph)):\n",
    "        for j in range(i, len(graph)):\n",
    "            if np.random.random() < density:\n",
    "                if i!=j:\n",
    "                    w = np.random.randint(1,20)\n",
    "                    graph[i][j] = w\n",
    "                    graph[j][i] = w\n",
    "                    \n",
    "    return graph"
   ]
  },
  {
   "cell_type": "code",
   "execution_count": 4,
   "id": "887d0556",
   "metadata": {},
   "outputs": [],
   "source": [
    "model=Sequential()"
   ]
  },
  {
   "cell_type": "code",
   "execution_count": 5,
   "id": "0633e861",
   "metadata": {},
   "outputs": [],
   "source": [
    "model.add(Conv2D(32,(3,3),activation='relu',input_shape=(28,28,1))) #this is for convolution layer"
   ]
  },
  {
   "cell_type": "code",
   "execution_count": 6,
   "id": "71fbf145",
   "metadata": {},
   "outputs": [],
   "source": [
    "model.add(MaxPool2D(2,2)) #this is for pooling layer"
   ]
  },
  {
   "cell_type": "code",
   "execution_count": 7,
   "id": "aba55ee6",
   "metadata": {
    "scrolled": true
   },
   "outputs": [
    {
     "name": "stdout",
     "output_type": "stream",
     "text": [
      "Epoch 1/10\n",
      "1875/1875 [==============================] - 43s 22ms/step - loss: 0.1599 - accuracy: 0.9529\n",
      "Epoch 2/10\n",
      "1875/1875 [==============================] - 54s 29ms/step - loss: 0.0555 - accuracy: 0.9829\n",
      "Epoch 3/10\n",
      "1875/1875 [==============================] - 47s 25ms/step - loss: 0.0354 - accuracy: 0.9891\n",
      "Epoch 4/10\n",
      "1875/1875 [==============================] - 44s 24ms/step - loss: 0.0239 - accuracy: 0.9921\n",
      "Epoch 5/10\n",
      "1875/1875 [==============================] - 43s 23ms/step - loss: 0.0168 - accuracy: 0.9947\n",
      "Epoch 6/10\n",
      "1875/1875 [==============================] - 41s 22ms/step - loss: 0.0119 - accuracy: 0.9961\n",
      "Epoch 7/10\n",
      "1875/1875 [==============================] - 31s 16ms/step - loss: 0.0090 - accuracy: 0.9972\n",
      "Epoch 8/10\n",
      "1875/1875 [==============================] - 25s 13ms/step - loss: 0.0077 - accuracy: 0.9973\n",
      "Epoch 9/10\n",
      "1875/1875 [==============================] - 28s 15ms/step - loss: 0.0062 - accuracy: 0.9980\n",
      "Epoch 10/10\n",
      "1875/1875 [==============================] - 28s 15ms/step - loss: 0.0040 - accuracy: 0.9986\n"
     ]
    },
    {
     "data": {
      "text/plain": [
       "<keras.callbacks.History at 0x2d96b750b80>"
      ]
     },
     "execution_count": 7,
     "metadata": {},
     "output_type": "execute_result"
    }
   ],
   "source": [
    "model.add(Flatten())\n",
    "model.add(Dense(100,activation='relu'))\n",
    "model.add(Dense(10,activation='softmax'))\n",
    "model.compile(loss='sparse_categorical_crossentropy',optimizer='adam',metrics=['accuracy'])\n",
    "model.fit(X_train,y_train,epochs=10)"
   ]
  },
  {
   "cell_type": "code",
   "execution_count": 12,
   "id": "3b32b86c",
   "metadata": {},
   "outputs": [
    {
     "name": "stdout",
     "output_type": "stream",
     "text": [
      "313/313 [==============================] - 2s 5ms/step - loss: 0.0604 - accuracy: 0.9858\n"
     ]
    },
    {
     "data": {
      "text/plain": [
       "[0.06039034575223923, 0.98580002784729]"
      ]
     },
     "execution_count": 12,
     "metadata": {},
     "output_type": "execute_result"
    }
   ],
   "source": [
    "model.evaluate(X_test,y_test)"
   ]
  }
 ],
 "metadata": {
  "kernelspec": {
   "display_name": "Python 3 (ipykernel)",
   "language": "python",
   "name": "python3"
  },
  "language_info": {
   "codemirror_mode": {
    "name": "ipython",
    "version": 3
   },
   "file_extension": ".py",
   "mimetype": "text/x-python",
   "name": "python",
   "nbconvert_exporter": "python",
   "pygments_lexer": "ipython3",
   "version": "3.9.7"
  }
 },
 "nbformat": 4,
 "nbformat_minor": 5
}

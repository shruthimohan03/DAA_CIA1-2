{
 "cells": [
  {
   "cell_type": "code",
   "execution_count": 4,
   "id": "3bad9a02",
   "metadata": {},
   "outputs": [],
   "source": [
    "'''from tensorflow.keras.datasets import mnist\n",
    "from tensorflow.keras.models import Sequential\n",
    "from tensorflow.keras.layers import Conv2D\n",
    "from tensorflow.keras.layers import MaxPool2D\n",
    "from tensorflow.keras.layers import Flatten\n",
    "from tensorflow.keras.layers import Dropout\n",
    "from tensorflow.keras.layers import Dense'''"
   ]
  },
  {
   "cell_type": "code",
   "execution_count": 5,
   "id": "08e98e99",
   "metadata": {},
   "outputs": [
    {
     "name": "stdout",
     "output_type": "stream",
     "text": [
      "Downloading data from https://storage.googleapis.com/tensorflow/tf-keras-datasets/mnist.npz\n",
      "11490434/11490434 [==============================] - 1s 0us/step\n"
     ]
    }
   ],
   "source": [
    "(X_train,y_train) , (X_test,y_test)=mnist.load_data()"
   ]
  },
  {
   "cell_type": "code",
   "execution_count": 6,
   "id": "a884acd8",
   "metadata": {},
   "outputs": [],
   "source": [
    "X_train = X_train.reshape((X_train.shape[0], X_train.shape[1], X_train.shape[2], 1))/255\n",
    "X_test = X_test.reshape((X_test.shape[0],X_test.shape[1],X_test.shape[2],1))/255"
   ]
  },
  {
   "cell_type": "markdown",
   "id": "bf1851bd",
   "metadata": {},
   "source": [
    "#### Genetic Algorithm"
   ]
  },
  {
   "cell_type": "code",
   "execution_count": 13,
   "id": "8cb24656",
   "metadata": {},
   "outputs": [],
   "source": [
    "import numpy as np"
   ]
  },
  {
   "cell_type": "code",
   "execution_count": 25,
   "id": "10da3cb8",
   "metadata": {},
   "outputs": [],
   "source": [
    "n = 10 #population\n",
    "l = -1    \n",
    "u = 2     \n",
    "\n",
    "def function(x):\n",
    "    return x * np.sin(10 * np.pi * x) + 2\n",
    "\n",
    "#to generate first generation population\n",
    "def genpop(size = n, resolution = 7):\n",
    "    pop = list()\n",
    "    i=0\n",
    "    while i<size:\n",
    "        pop += [np.array([np.random.randint(1000) % 2 for j in range(resolution)])]\n",
    "    pop=np.array(pop)\n",
    "    return pop"
   ]
  },
  {
   "cell_type": "code",
   "execution_count": 15,
   "id": "7f98c5e4",
   "metadata": {},
   "outputs": [],
   "source": [
    "def decode(indiv):\n",
    "    convertor = np.array([2**(len(indiv) - 1 -i) for i in range(len(indiv))])\n",
    "    num = np.dot(convertor,indiv) / 2**len(indiv)\n",
    "    min = np.dot(convertor,np.array([0 for i in range(len(indiv))])) / 2**len(indiv) \n",
    "    max = np.dot(convertor,np.array([1 for i in range(len(indiv))])) / 2**len(indiv) \n",
    "    final = (u-l) * (num - min) / (max - min) + l\n",
    "    return final"
   ]
  },
  {
   "cell_type": "code",
   "execution_count": 16,
   "id": "4772fa5e",
   "metadata": {},
   "outputs": [],
   "source": [
    "def fitnessFunc(indiv):\n",
    "    value = decode(indiv)\n",
    "    y = function(value)\n",
    "    return y"
   ]
  },
  {
   "cell_type": "code",
   "execution_count": 17,
   "id": "ca6d856b",
   "metadata": {},
   "outputs": [],
   "source": [
    "def mutate(indiv,mutation_rate = 0.01):\n",
    "    if(np.random.random() > (1-mutation_rate)):\n",
    "        index = np.random.randint(len(indiv))\n",
    "        indiv[index] = not indiv[index]\n",
    "        \n",
    "    return indiv"
   ]
  },
  {
   "cell_type": "code",
   "execution_count": 18,
   "id": "0e0f2955",
   "metadata": {},
   "outputs": [],
   "source": [
    "def reproduce(indiv1,indiv2):\n",
    "    split_point = np.random.randint(len(individual1))    \n",
    "    child_1 = np.concatenate((individual1[:split_point] , individual2[split_point:]))\n",
    "    child_2 = np.concatenate((individual2[:split_point] , individual1[split_point:]))\n",
    "    child_3 = np.concatenate((individual1[split_point:] , individual2[:split_point]))\n",
    "    child_4 = np.concatenate((individual2[split_point:] , individual1[:split_point]))\n",
    "    child_1 = mutate(child_1)\n",
    "    child_2 = mutate(child_2)\n",
    "    child_3 = mutate(child_3)\n",
    "    child_4 = mutate(child_4)\n",
    "    \n",
    "    return [child_1,child_2,child_3,child_4]"
   ]
  },
  {
   "cell_type": "code",
   "execution_count": 19,
   "id": "b1d3fbbd",
   "metadata": {},
   "outputs": [],
   "source": [
    "def append_children(pop,children):\n",
    "    for child in children:\n",
    "        if child.tolist() not in population.tolist():\n",
    "            pop = np.concatenate((pop,np.array([child])))         \n",
    "    return pop"
   ]
  },
  {
   "cell_type": "code",
   "execution_count": 20,
   "id": "7d578b24",
   "metadata": {},
   "outputs": [],
   "source": [
    "def form_Next_Population(pop):\n",
    "    pop_size = len(pop)\n",
    "    for ind1_index in range(pop_size):\n",
    "        for ind2_index in range(pop_size):\n",
    "            if ind1_index != ind2_index:\n",
    "                children = reproduce(pop[ind1_index],pop[ind2_index])\n",
    "                pop = append_children(pop, children)\n",
    "                \n",
    "    fitness_value = list()\n",
    "    for individual in pop:\n",
    "        fitness_value += [fitnessFunc(indiv)]\n",
    "    sorted_population = np.argsort(fitness_value)[::-1][:SIZE]\n",
    "    \n",
    "    return population[sorted_population]"
   ]
  },
  {
   "cell_type": "code",
   "execution_count": 22,
   "id": "8d6494c8",
   "metadata": {},
   "outputs": [],
   "source": [
    "x = [-1 + (i * 1/5**5) for i in range(2**7)] #q\n",
    "y = [function(i) for i in x]"
   ]
  },
  {
   "cell_type": "code",
   "execution_count": 26,
   "id": "159242b8",
   "metadata": {
    "collapsed": true
   },
   "outputs": [
    {
     "ename": "KeyboardInterrupt",
     "evalue": "",
     "output_type": "error",
     "traceback": [
      "\u001b[1;31m---------------------------------------------------------------------------\u001b[0m",
      "\u001b[1;31mKeyboardInterrupt\u001b[0m                         Traceback (most recent call last)",
      "\u001b[1;32mC:\\Users\\SHRUTH~1\\AppData\\Local\\Temp/ipykernel_31472/2841970703.py\u001b[0m in \u001b[0;36m<module>\u001b[1;34m\u001b[0m\n\u001b[1;32m----> 1\u001b[1;33m \u001b[0mPOP\u001b[0m \u001b[1;33m=\u001b[0m \u001b[0mgenpop\u001b[0m\u001b[1;33m(\u001b[0m\u001b[1;33m)\u001b[0m\u001b[1;33m\u001b[0m\u001b[1;33m\u001b[0m\u001b[0m\n\u001b[0m\u001b[0;32m      2\u001b[0m \u001b[0mgeneration\u001b[0m \u001b[1;33m=\u001b[0m \u001b[1;36m0\u001b[0m\u001b[1;33m\u001b[0m\u001b[1;33m\u001b[0m\u001b[0m\n\u001b[0;32m      3\u001b[0m \u001b[0mindividuals\u001b[0m \u001b[1;33m=\u001b[0m \u001b[1;33m[\u001b[0m\u001b[1;33m]\u001b[0m\u001b[1;33m\u001b[0m\u001b[1;33m\u001b[0m\u001b[0m\n\u001b[0;32m      4\u001b[0m \u001b[0mfunctionValue\u001b[0m \u001b[1;33m=\u001b[0m \u001b[1;33m[\u001b[0m\u001b[1;33m]\u001b[0m\u001b[1;33m\u001b[0m\u001b[1;33m\u001b[0m\u001b[0m\n\u001b[0;32m      5\u001b[0m \u001b[1;32mfor\u001b[0m \u001b[0mindividual\u001b[0m \u001b[1;32min\u001b[0m \u001b[0mPOP\u001b[0m\u001b[1;33m:\u001b[0m\u001b[1;33m\u001b[0m\u001b[1;33m\u001b[0m\u001b[0m\n",
      "\u001b[1;32mC:\\Users\\SHRUTH~1\\AppData\\Local\\Temp/ipykernel_31472/3626106737.py\u001b[0m in \u001b[0;36mgenpop\u001b[1;34m(size, resolution)\u001b[0m\n\u001b[0;32m     11\u001b[0m     \u001b[0mi\u001b[0m\u001b[1;33m=\u001b[0m\u001b[1;36m0\u001b[0m\u001b[1;33m\u001b[0m\u001b[1;33m\u001b[0m\u001b[0m\n\u001b[0;32m     12\u001b[0m     \u001b[1;32mwhile\u001b[0m \u001b[0mi\u001b[0m\u001b[1;33m<\u001b[0m\u001b[0msize\u001b[0m\u001b[1;33m:\u001b[0m\u001b[1;33m\u001b[0m\u001b[1;33m\u001b[0m\u001b[0m\n\u001b[1;32m---> 13\u001b[1;33m         \u001b[0mpop\u001b[0m \u001b[1;33m+=\u001b[0m \u001b[1;33m[\u001b[0m\u001b[0mnp\u001b[0m\u001b[1;33m.\u001b[0m\u001b[0marray\u001b[0m\u001b[1;33m(\u001b[0m\u001b[1;33m[\u001b[0m\u001b[0mnp\u001b[0m\u001b[1;33m.\u001b[0m\u001b[0mrandom\u001b[0m\u001b[1;33m.\u001b[0m\u001b[0mrandint\u001b[0m\u001b[1;33m(\u001b[0m\u001b[1;36m1000\u001b[0m\u001b[1;33m)\u001b[0m \u001b[1;33m%\u001b[0m \u001b[1;36m2\u001b[0m \u001b[1;32mfor\u001b[0m \u001b[0mj\u001b[0m \u001b[1;32min\u001b[0m \u001b[0mrange\u001b[0m\u001b[1;33m(\u001b[0m\u001b[0mresolution\u001b[0m\u001b[1;33m)\u001b[0m\u001b[1;33m]\u001b[0m\u001b[1;33m)\u001b[0m\u001b[1;33m]\u001b[0m\u001b[1;33m\u001b[0m\u001b[1;33m\u001b[0m\u001b[0m\n\u001b[0m\u001b[0;32m     14\u001b[0m     \u001b[0mpop\u001b[0m\u001b[1;33m=\u001b[0m\u001b[0mnp\u001b[0m\u001b[1;33m.\u001b[0m\u001b[0marray\u001b[0m\u001b[1;33m(\u001b[0m\u001b[0mpop\u001b[0m\u001b[1;33m)\u001b[0m\u001b[1;33m\u001b[0m\u001b[1;33m\u001b[0m\u001b[0m\n\u001b[0;32m     15\u001b[0m     \u001b[1;32mreturn\u001b[0m \u001b[0mpop\u001b[0m\u001b[1;33m\u001b[0m\u001b[1;33m\u001b[0m\u001b[0m\n",
      "\u001b[1;32mC:\\Users\\SHRUTH~1\\AppData\\Local\\Temp/ipykernel_31472/3626106737.py\u001b[0m in \u001b[0;36m<listcomp>\u001b[1;34m(.0)\u001b[0m\n\u001b[0;32m     11\u001b[0m     \u001b[0mi\u001b[0m\u001b[1;33m=\u001b[0m\u001b[1;36m0\u001b[0m\u001b[1;33m\u001b[0m\u001b[1;33m\u001b[0m\u001b[0m\n\u001b[0;32m     12\u001b[0m     \u001b[1;32mwhile\u001b[0m \u001b[0mi\u001b[0m\u001b[1;33m<\u001b[0m\u001b[0msize\u001b[0m\u001b[1;33m:\u001b[0m\u001b[1;33m\u001b[0m\u001b[1;33m\u001b[0m\u001b[0m\n\u001b[1;32m---> 13\u001b[1;33m         \u001b[0mpop\u001b[0m \u001b[1;33m+=\u001b[0m \u001b[1;33m[\u001b[0m\u001b[0mnp\u001b[0m\u001b[1;33m.\u001b[0m\u001b[0marray\u001b[0m\u001b[1;33m(\u001b[0m\u001b[1;33m[\u001b[0m\u001b[0mnp\u001b[0m\u001b[1;33m.\u001b[0m\u001b[0mrandom\u001b[0m\u001b[1;33m.\u001b[0m\u001b[0mrandint\u001b[0m\u001b[1;33m(\u001b[0m\u001b[1;36m1000\u001b[0m\u001b[1;33m)\u001b[0m \u001b[1;33m%\u001b[0m \u001b[1;36m2\u001b[0m \u001b[1;32mfor\u001b[0m \u001b[0mj\u001b[0m \u001b[1;32min\u001b[0m \u001b[0mrange\u001b[0m\u001b[1;33m(\u001b[0m\u001b[0mresolution\u001b[0m\u001b[1;33m)\u001b[0m\u001b[1;33m]\u001b[0m\u001b[1;33m)\u001b[0m\u001b[1;33m]\u001b[0m\u001b[1;33m\u001b[0m\u001b[1;33m\u001b[0m\u001b[0m\n\u001b[0m\u001b[0;32m     14\u001b[0m     \u001b[0mpop\u001b[0m\u001b[1;33m=\u001b[0m\u001b[0mnp\u001b[0m\u001b[1;33m.\u001b[0m\u001b[0marray\u001b[0m\u001b[1;33m(\u001b[0m\u001b[0mpop\u001b[0m\u001b[1;33m)\u001b[0m\u001b[1;33m\u001b[0m\u001b[1;33m\u001b[0m\u001b[0m\n\u001b[0;32m     15\u001b[0m     \u001b[1;32mreturn\u001b[0m \u001b[0mpop\u001b[0m\u001b[1;33m\u001b[0m\u001b[1;33m\u001b[0m\u001b[0m\n",
      "\u001b[1;31mKeyboardInterrupt\u001b[0m: "
     ]
    }
   ],
   "source": [
    "POP = genpop()\n",
    "generation = 0\n",
    "individuals = []\n",
    "functionValue = []\n",
    "for individual in POP:\n",
    "    individuals += [decode(individual)]    \n",
    "    functionValue += [function(decode(individual))] \n",
    "temp = np.argsort(individuals)\n",
    "individuals = np.array(individuals)[temp]\n",
    "functionValue = np.array(functionValue)[temp]"
   ]
  },
  {
   "cell_type": "code",
   "execution_count": 27,
   "id": "a1d972ea",
   "metadata": {
    "collapsed": true
   },
   "outputs": [
    {
     "ename": "NameError",
     "evalue": "name 'POP' is not defined",
     "output_type": "error",
     "traceback": [
      "\u001b[1;31m---------------------------------------------------------------------------\u001b[0m",
      "\u001b[1;31mNameError\u001b[0m                                 Traceback (most recent call last)",
      "\u001b[1;32mC:\\Users\\SHRUTH~1\\AppData\\Local\\Temp/ipykernel_31472/3951800458.py\u001b[0m in \u001b[0;36m<module>\u001b[1;34m\u001b[0m\n\u001b[1;32m----> 1\u001b[1;33m \u001b[0mPOP\u001b[0m \u001b[1;33m=\u001b[0m \u001b[0mform_Next_Population\u001b[0m\u001b[1;33m(\u001b[0m\u001b[0mPOP\u001b[0m\u001b[1;33m)\u001b[0m\u001b[1;33m\u001b[0m\u001b[1;33m\u001b[0m\u001b[0m\n\u001b[0m\u001b[0;32m      2\u001b[0m \u001b[0mgeneration\u001b[0m \u001b[1;33m+=\u001b[0m \u001b[1;36m1\u001b[0m\u001b[1;33m\u001b[0m\u001b[1;33m\u001b[0m\u001b[0m\n",
      "\u001b[1;31mNameError\u001b[0m: name 'POP' is not defined"
     ]
    }
   ],
   "source": [
    "POP = form_Next_Population(POP)\n",
    "generation += 1"
   ]
  },
  {
   "cell_type": "code",
   "execution_count": 7,
   "id": "b1fc8fcd",
   "metadata": {},
   "outputs": [],
   "source": [
    "model=Sequential()"
   ]
  },
  {
   "cell_type": "code",
   "execution_count": 8,
   "id": "c7ce0575",
   "metadata": {},
   "outputs": [],
   "source": [
    "model.add(Conv2D(32,(3,3),activation='relu',input_shape=(28,28,1))) #this is for convolution layer"
   ]
  },
  {
   "cell_type": "code",
   "execution_count": 9,
   "id": "ea8177d7",
   "metadata": {},
   "outputs": [],
   "source": [
    "model.add(MaxPool2D(2,2)) #this is for pooling layer"
   ]
  },
  {
   "cell_type": "code",
   "execution_count": 11,
   "id": "b1651537",
   "metadata": {},
   "outputs": [
    {
     "name": "stdout",
     "output_type": "stream",
     "text": [
      "Epoch 1/10\n",
      "1875/1875 [==============================] - 39s 20ms/step - loss: 0.1747 - accuracy: 0.9471\n",
      "Epoch 2/10\n",
      "1875/1875 [==============================] - 37s 20ms/step - loss: 0.0573 - accuracy: 0.9823\n",
      "Epoch 3/10\n",
      "1875/1875 [==============================] - 39s 21ms/step - loss: 0.0378 - accuracy: 0.9879\n",
      "Epoch 4/10\n",
      "1875/1875 [==============================] - 38s 20ms/step - loss: 0.0247 - accuracy: 0.9923\n",
      "Epoch 5/10\n",
      "1875/1875 [==============================] - 38s 20ms/step - loss: 0.0196 - accuracy: 0.9935\n",
      "Epoch 6/10\n",
      "1875/1875 [==============================] - 36s 19ms/step - loss: 0.0132 - accuracy: 0.9955\n",
      "Epoch 7/10\n",
      "1875/1875 [==============================] - 39s 21ms/step - loss: 0.0112 - accuracy: 0.9961\n",
      "Epoch 8/10\n",
      "1875/1875 [==============================] - 38s 20ms/step - loss: 0.0107 - accuracy: 0.9964\n",
      "Epoch 9/10\n",
      "1875/1875 [==============================] - 38s 20ms/step - loss: 0.0079 - accuracy: 0.9974\n",
      "Epoch 10/10\n",
      "1875/1875 [==============================] - 29s 15ms/step - loss: 0.0056 - accuracy: 0.9983\n"
     ]
    },
    {
     "data": {
      "text/plain": [
       "<keras.callbacks.History at 0x1a6fc8faa30>"
      ]
     },
     "execution_count": 11,
     "metadata": {},
     "output_type": "execute_result"
    }
   ],
   "source": [
    "model.add(Flatten())\n",
    "model.add(Dense(100,activation='relu'))\n",
    "model.add(Dense(10,activation='softmax'))\n",
    "model.compile(loss='sparse_categorical_crossentropy',optimizer='adam',metrics=['accuracy'])\n",
    "model.fit(X_train,y_train,epochs=10)"
   ]
  },
  {
   "cell_type": "code",
   "execution_count": 12,
   "id": "6327c942",
   "metadata": {},
   "outputs": [
    {
     "name": "stdout",
     "output_type": "stream",
     "text": [
      "313/313 [==============================] - 2s 5ms/step - loss: 0.0604 - accuracy: 0.9858\n"
     ]
    },
    {
     "data": {
      "text/plain": [
       "[0.06039034575223923, 0.98580002784729]"
      ]
     },
     "execution_count": 12,
     "metadata": {},
     "output_type": "execute_result"
    }
   ],
   "source": [
    "model.evaluate(X_test,y_test)"
   ]
  }
 ],
 "metadata": {
  "kernelspec": {
   "display_name": "Python 3 (ipykernel)",
   "language": "python",
   "name": "python3"
  },
  "language_info": {
   "codemirror_mode": {
    "name": "ipython",
    "version": 3
   },
   "file_extension": ".py",
   "mimetype": "text/x-python",
   "name": "python",
   "nbconvert_exporter": "python",
   "pygments_lexer": "ipython3",
   "version": "3.9.7"
  }
 },
 "nbformat": 4,
 "nbformat_minor": 5
}
